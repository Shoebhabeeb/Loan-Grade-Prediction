{
 "cells": [
  {
   "cell_type": "markdown",
   "metadata": {},
   "source": [
    "# CODING QUESTIONS FOR HOMEWORK 3"
   ]
  },
  {
   "cell_type": "markdown",
   "metadata": {},
   "source": [
    "### 1. c. Plot X vs Y in Scatter plot from data in Table 1 and comment on the relation of X vs Y using Covariance,Corelation. Please comment on Covariance and corelation values [5 Pts]"
   ]
  },
  {
   "cell_type": "code",
   "execution_count": 2,
   "metadata": {},
   "outputs": [
    {
     "name": "stdout",
     "output_type": "stream",
     "text": [
      "Covariance matrix::: \n",
      "             X             Y\n",
      "X    6.545455    226.363636\n",
      "Y  226.363636  10252.265152\n",
      "\n",
      "Correlation matrix::: \n",
      "          X        Y\n",
      "X  1.00000  0.87383\n",
      "Y  0.87383  1.00000\n"
     ]
    },
    {
     "data": {
      "image/png": "[encoded data removed]",
      "text/plain": [
       "<Figure size 432x288 with 1 Axes>"
      ]
     },
     "metadata": {},
     "output_type": "display_data"
    }
   ],
   "source": [
    "import pandas as pd\n",
    "import numpy as np\n",
    "import matplotlib.pyplot as plt\n",
    "import seaborn as sns; sns.set()\n",
    "\n",
    "# Loading the csv file data\n",
    "df = pd.read_csv('DM_Homework3.csv')\n",
    "\n",
    "# Scatter plot matrix\n",
    "ax = sns.scatterplot(x=\"X\", y=\"Y\", data=df)\n",
    "\n",
    "print(\"Covariance matrix::: \\n\", df.cov())\n",
    "print(\"\\nCorrelation matrix::: \\n\", df.corr())\n"
   ]
  },
  {
   "cell_type": "markdown",
   "metadata": {},
   "source": [
    "Covariance ranges from minus infinity to infinity. Covariance of X and Y is 226.36. Correlation of X and Y is 0.87 which is almost near to 1, this implies there is positive linear correlation between X and Y.\n",
    "\n",
    "This is also confirmed by a linearly increasing trend in the data points shown in the scatter plot."
   ]
  },
  {
   "cell_type": "markdown",
   "metadata": {},
   "source": [
    "### d) Perform Linear regression on the following data using Python? and print β0, β1 values in equation y= β0+ β1*x. Please write down what is your understanding from those values. [10 Pts]"
   ]
  },
  {
   "cell_type": "code",
   "execution_count": 3,
   "metadata": {},
   "outputs": [
    {
     "name": "stdout",
     "output_type": "stream",
     "text": [
      "Intercept =  [307.91666667]\n",
      "Coeeficient b1 or Sploe of Equation =  [[34.58333333]]\n"
     ]
    }
   ],
   "source": [
    "from sklearn.model_selection import train_test_split \n",
    "from sklearn.linear_model import LinearRegression\n",
    "from sklearn import metrics\n",
    "%matplotlib inline\n",
    "\n",
    "# Reshaping the data X & Y data as it contains single sample\n",
    "X = df['X'].values.reshape(-1,1)\n",
    "Y = df['Y'].values.reshape(-1,1)\n",
    "\n",
    "linearRegression = LinearRegression()  \n",
    "df_lr = linearRegression.fit(X, Y) #training the algorithm\n",
    "\n",
    "#To retrieve the intercept:\n",
    "print(\"Intercept = \", linearRegression.intercept_)\n",
    "\n",
    "#For retrieving the slope:\n",
    "print(\"Coeeficient b1 or Sploe of Equation = \", linearRegression.coef_)"
   ]
  },
  {
   "cell_type": "markdown",
   "metadata": {},
   "source": [
    "Linear Regression equation y = 307.91 + 34.58x. Slope of the linear equation is 34.58. B0 value is 307.91."
   ]
  },
  {
   "cell_type": "markdown",
   "metadata": {},
   "source": [
    "### e) What are different evaluation metrics available for predicting the performance of the Linear Regression? Evaluate all those methods on the given dataset in Table 1 and also please print out the accuracy, R2, Adjusted R2 [10 pts]"
   ]
  },
  {
   "cell_type": "markdown",
   "metadata": {},
   "source": [
    "For evaluating the performance of the Linear Regression we can use Mean Squared Error (MSE), R squared and Adjusted R squared."
   ]
  },
  {
   "cell_type": "code",
   "execution_count": 6,
   "metadata": {},
   "outputs": [
    {
     "name": "stdout",
     "output_type": "stream",
     "text": [
      "P Values::: \n",
      " [3.57239349e-08]\n",
      "T Values:::\n",
      " [13.44985176]\n",
      "R Squared:::\n",
      " 0.9426780340306771\n",
      "Adjusted R Squared:::\n",
      " 0.937466946215284\n"
     ]
    }
   ],
   "source": [
    "import statsmodels.api as sm\n",
    "from statsmodels.sandbox.regression.predstd import wls_prediction_std\n",
    "\n",
    "model = sm.OLS(Y,X)\n",
    "\n",
    "ols = sm.OLS(Y, X)\n",
    "lr = ols.fit()\n",
    "print(\"P Values::: \\n\",lr.pvalues)\n",
    "print(\"T Values:::\\n\",lr.tvalues)\n",
    "print(\"R Squared:::\\n\",lr.rsquared)\n",
    "print(\"Adjusted R Squared:::\\n\",lr.rsquared_adj)"
   ]
  },
  {
   "cell_type": "markdown",
   "metadata": {},
   "source": [
    "# f) Print ANOVA (Analysis of Variance) table and Parameter Estimates for the given data and explain your understanding. [10 pts]"
   ]
  },
  {
   "cell_type": "code",
   "execution_count": 7,
   "metadata": {},
   "outputs": [
    {
     "name": "stdout",
     "output_type": "stream",
     "text": [
      "ANOVA(Analysis of Variance Table:::)\n",
      "                                  OLS Regression Results                                \n",
      "=======================================================================================\n",
      "Dep. Variable:                      y   R-squared (uncentered):                   0.943\n",
      "Model:                            OLS   Adj. R-squared (uncentered):              0.937\n",
      "Method:                 Least Squares   F-statistic:                              180.9\n",
      "Date:                Sat, 24 Oct 2020   Prob (F-statistic):                    3.57e-08\n",
      "Time:                        16:55:20   Log-Likelihood:                         -75.021\n",
      "No. Observations:                  12   AIC:                                      152.0\n",
      "Df Residuals:                      11   BIC:                                      152.5\n",
      "Df Model:                           1                                                  \n",
      "Covariance Type:            nonrobust                                                  \n",
      "==============================================================================\n",
      "                 coef    std err          t      P>|t|      [0.025      0.975]\n",
      "------------------------------------------------------------------------------\n",
      "x1            78.5714      5.842     13.450      0.000      65.714      91.429\n",
      "==============================================================================\n",
      "Omnibus:                        2.385   Durbin-Watson:                   2.492\n",
      "Prob(Omnibus):                  0.303   Jarque-Bera (JB):                0.996\n",
      "Skew:                          -0.192   Prob(JB):                        0.608\n",
      "Kurtosis:                       1.642   Cond. No.                         1.00\n",
      "==============================================================================\n",
      "\n",
      "Notes:\n",
      "[1] R² is computed without centering (uncentered) since the model does not contain a constant.\n",
      "[2] Standard Errors assume that the covariance matrix of the errors is correctly specified.\n"
     ]
    },
    {
     "name": "stderr",
     "output_type": "stream",
     "text": [
      "/home/shoebhabeeb/.local/lib/python3.6/site-packages/scipy/stats/stats.py:1604: UserWarning: kurtosistest only valid for n>=20 ... continuing anyway, n=12\n",
      "  \"anyway, n=%i\" % int(n))\n"
     ]
    }
   ],
   "source": [
    "print(\"ANOVA(Analysis of Variance Table:::)\\n\",lr.summary())"
   ]
  },
  {
   "cell_type": "markdown",
   "metadata": {},
   "source": [
    "R-squared value is 0.943 and Adjusted R-squared value is 0.937. Standard error is 5.842. Coefficient of x1 is 78.5714."
   ]
  },
  {
   "cell_type": "markdown",
   "metadata": {},
   "source": [
    "### Q2. d. Perfom Naive Bayes algorithm on the below dataset in python in which you can classify wheather a Red Domestic SUV is stolen or not as shown in 2.2. [10 pts]"
   ]
  },
  {
   "cell_type": "code",
   "execution_count": 9,
   "metadata": {},
   "outputs": [
    {
     "data": {
      "text/html": [
       "<div>\n",
       "<style scoped>\n",
       "    .dataframe tbody tr th:only-of-type {\n",
       "        vertical-align: middle;\n",
       "    }\n",
       "\n",
       "    .dataframe tbody tr th {\n",
       "        vertical-align: top;\n",
       "    }\n",
       "\n",
       "    .dataframe thead th {\n",
       "        text-align: right;\n",
       "    }\n",
       "</style>\n",
       "<table border=\"1\" class=\"dataframe\">\n",
       "  <thead>\n",
       "    <tr style=\"text-align: right;\">\n",
       "      <th></th>\n",
       "      <th>Example No.</th>\n",
       "      <th>Color</th>\n",
       "      <th>Type</th>\n",
       "      <th>Origin</th>\n",
       "      <th>Stolen?</th>\n",
       "    </tr>\n",
       "  </thead>\n",
       "  <tbody>\n",
       "    <tr>\n",
       "      <th>0</th>\n",
       "      <td>1</td>\n",
       "      <td>Red</td>\n",
       "      <td>Sports</td>\n",
       "      <td>Domestic</td>\n",
       "      <td>Yes</td>\n",
       "    </tr>\n",
       "    <tr>\n",
       "      <th>1</th>\n",
       "      <td>2</td>\n",
       "      <td>Red</td>\n",
       "      <td>Sports</td>\n",
       "      <td>Domestic</td>\n",
       "      <td>No</td>\n",
       "    </tr>\n",
       "    <tr>\n",
       "      <th>2</th>\n",
       "      <td>3</td>\n",
       "      <td>Red</td>\n",
       "      <td>Sports</td>\n",
       "      <td>Domestic</td>\n",
       "      <td>Yes</td>\n",
       "    </tr>\n",
       "    <tr>\n",
       "      <th>3</th>\n",
       "      <td>4</td>\n",
       "      <td>Yellow</td>\n",
       "      <td>Sports</td>\n",
       "      <td>Domestic</td>\n",
       "      <td>No</td>\n",
       "    </tr>\n",
       "    <tr>\n",
       "      <th>4</th>\n",
       "      <td>5</td>\n",
       "      <td>Yellow</td>\n",
       "      <td>Sports</td>\n",
       "      <td>Imported</td>\n",
       "      <td>Yes</td>\n",
       "    </tr>\n",
       "    <tr>\n",
       "      <th>5</th>\n",
       "      <td>6</td>\n",
       "      <td>Yellow</td>\n",
       "      <td>SUV</td>\n",
       "      <td>Imported</td>\n",
       "      <td>No</td>\n",
       "    </tr>\n",
       "    <tr>\n",
       "      <th>6</th>\n",
       "      <td>7</td>\n",
       "      <td>Yellow</td>\n",
       "      <td>SUV</td>\n",
       "      <td>Imported</td>\n",
       "      <td>Yes</td>\n",
       "    </tr>\n",
       "    <tr>\n",
       "      <th>7</th>\n",
       "      <td>8</td>\n",
       "      <td>Yellow</td>\n",
       "      <td>SUV</td>\n",
       "      <td>Domestic</td>\n",
       "      <td>No</td>\n",
       "    </tr>\n",
       "    <tr>\n",
       "      <th>8</th>\n",
       "      <td>9</td>\n",
       "      <td>Red</td>\n",
       "      <td>SUV</td>\n",
       "      <td>Imported</td>\n",
       "      <td>No</td>\n",
       "    </tr>\n",
       "    <tr>\n",
       "      <th>9</th>\n",
       "      <td>10</td>\n",
       "      <td>Red</td>\n",
       "      <td>Sports</td>\n",
       "      <td>Imported</td>\n",
       "      <td>Yes</td>\n",
       "    </tr>\n",
       "  </tbody>\n",
       "</table>\n",
       "</div>"
      ],
      "text/plain": [
       "   Example No.   Color    Type    Origin Stolen?\n",
       "0            1     Red  Sports  Domestic     Yes\n",
       "1            2     Red  Sports  Domestic      No\n",
       "2            3     Red  Sports  Domestic     Yes\n",
       "3            4  Yellow  Sports  Domestic      No\n",
       "4            5  Yellow  Sports  Imported     Yes\n",
       "5            6  Yellow     SUV  Imported      No\n",
       "6            7  Yellow     SUV  Imported     Yes\n",
       "7            8  Yellow     SUV  Domestic      No\n",
       "8            9     Red     SUV  Imported      No\n",
       "9           10     Red  Sports  Imported     Yes"
      ]
     },
     "execution_count": 9,
     "metadata": {},
     "output_type": "execute_result"
    }
   ],
   "source": [
    "from sklearn import preprocessing\n",
    "\n",
    "# Loading the csv file data\n",
    "df = pd.read_csv('Data_Set_Q2.csv')\n",
    "df"
   ]
  },
  {
   "cell_type": "code",
   "execution_count": 14,
   "metadata": {},
   "outputs": [
    {
     "name": "stdout",
     "output_type": "stream",
     "text": [
      "Color:\n",
      " [0 0 0 1 1 1 1 1 0 0]\n",
      "Type Encoded: \n",
      " [1 1 1 1 1 0 0 0 0 1]\n",
      "Origin:\n",
      " [0 0 0 0 1 1 1 0 1 1]\n",
      "Stolen:\n",
      " [1 0 1 0 1 0 1 0 0 1]\n",
      "   0  1  2\n",
      "0  0  1  0\n",
      "1  0  1  0\n",
      "2  0  1  0\n",
      "3  1  1  0\n",
      "4  1  1  1\n",
      "5  1  0  1\n",
      "6  1  0  1\n",
      "7  1  0  0\n",
      "8  0  0  1\n",
      "9  0  1  1\n",
      "Predicted Value: [0]\n"
     ]
    }
   ],
   "source": [
    "#creating labelEncoder\n",
    "le = preprocessing.LabelEncoder()\n",
    "\n",
    "# Converting string labels into numbers.\n",
    "color_encoded=le.fit_transform(df['Color'])\n",
    "print(\"Color:\\n\", color_encoded)\n",
    "\n",
    "type_encoded=le.fit_transform(df['Type'])\n",
    "print(\"Type Encoded: \\n\", type_encoded)\n",
    "\n",
    "origin_encoded=le.fit_transform(df['Origin'])\n",
    "print(\"Origin:\\n\", origin_encoded)\n",
    "\n",
    "stolen_encoded=le.fit_transform(df['Stolen?']) # target\n",
    "print(\"Stolen:\\n\", stolen_encoded)\n",
    "\n",
    "label=le.fit_transform(stolen_encoded)\n",
    "\n",
    "#Combinig descriptive features into single listof tuples\n",
    "features = pd.DataFrame(zip(color_encoded,type_encoded,origin_encoded))\n",
    "print(features)\n",
    "\n",
    "#Import Gaussian Naive Bayes model\n",
    "from sklearn.naive_bayes import GaussianNB\n",
    "\n",
    "#Create a Gaussian Classifier\n",
    "model = GaussianNB()\n",
    "\n",
    "# Train the model using the training sets\n",
    "model.fit(features,label)\n",
    "\n",
    "#Predict Output\n",
    "predicted= model.predict([[0,0,0]]) # RED SUV Domestic\n",
    "print(\"Predicted Value:\", predicted)"
   ]
  },
  {
   "cell_type": "markdown",
   "metadata": {},
   "source": [
    "Predicted Value is NO for stolen class"
   ]
  },
  {
   "cell_type": "markdown",
   "metadata": {},
   "source": [
    "# THANK YOU"
   ]
  }
 ],
 "metadata": {
  "kernelspec": {
   "display_name": "Python 3",
   "language": "python",
   "name": "python3"
  },
  "language_info": {
   "codemirror_mode": {
    "name": "ipython",
    "version": 3
   },
   "file_extension": ".py",
   "mimetype": "text/x-python",
   "name": "python",
   "nbconvert_exporter": "python",
   "pygments_lexer": "ipython3",
   "version": "3.6.9"
  }
 },
 "nbformat": 4,
 "nbformat_minor": 2
}
